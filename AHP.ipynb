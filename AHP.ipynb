{
 "cells": [
  {
   "cell_type": "code",
   "execution_count": 1,
   "metadata": {},
   "outputs": [],
   "source": [
    "import numpy as np\n",
    "import pandas as pd"
   ]
  },
  {
   "cell_type": "code",
   "execution_count": 2,
   "metadata": {},
   "outputs": [
    {
     "data": {
      "text/html": [
       "<div>\n",
       "<style scoped>\n",
       "    .dataframe tbody tr th:only-of-type {\n",
       "        vertical-align: middle;\n",
       "    }\n",
       "\n",
       "    .dataframe tbody tr th {\n",
       "        vertical-align: top;\n",
       "    }\n",
       "\n",
       "    .dataframe thead th {\n",
       "        text-align: right;\n",
       "    }\n",
       "</style>\n",
       "<table border=\"1\" class=\"dataframe\">\n",
       "  <thead>\n",
       "    <tr style=\"text-align: right;\">\n",
       "      <th></th>\n",
       "      <th>粉丝数</th>\n",
       "      <th>颜值</th>\n",
       "      <th>作品质量</th>\n",
       "      <th>作品数量</th>\n",
       "    </tr>\n",
       "  </thead>\n",
       "  <tbody>\n",
       "    <tr>\n",
       "      <th>A</th>\n",
       "      <td>6000</td>\n",
       "      <td>10</td>\n",
       "      <td>6.5</td>\n",
       "      <td>25</td>\n",
       "    </tr>\n",
       "    <tr>\n",
       "      <th>B</th>\n",
       "      <td>3400</td>\n",
       "      <td>6</td>\n",
       "      <td>8.1</td>\n",
       "      <td>46</td>\n",
       "    </tr>\n",
       "    <tr>\n",
       "      <th>C</th>\n",
       "      <td>5500</td>\n",
       "      <td>8</td>\n",
       "      <td>7.5</td>\n",
       "      <td>31</td>\n",
       "    </tr>\n",
       "  </tbody>\n",
       "</table>\n",
       "</div>"
      ],
      "text/plain": [
       "    粉丝数  颜值  作品质量  作品数量\n",
       "A  6000  10   6.5    25\n",
       "B  3400   6   8.1    46\n",
       "C  5500   8   7.5    31"
      ]
     },
     "execution_count": 2,
     "metadata": {},
     "output_type": "execute_result"
    }
   ],
   "source": [
    "data = pd.DataFrame(\n",
    "    data=[\n",
    "        [6000, 10, 6.5, 25],\n",
    "        [3400, 6, 8.1, 46],\n",
    "        [5500, 8, 7.5, 31]\n",
    "          ],\n",
    "    index = [\"A\", \"B\", \"C\"],\n",
    "    columns = [\"粉丝数\", \"颜值\",\"作品质量\", \"作品数量\"]\n",
    ")\n",
    "data"
   ]
  },
  {
   "cell_type": "code",
   "execution_count": 3,
   "metadata": {},
   "outputs": [
    {
     "data": {
      "text/html": [
       "<div>\n",
       "<style scoped>\n",
       "    .dataframe tbody tr th:only-of-type {\n",
       "        vertical-align: middle;\n",
       "    }\n",
       "\n",
       "    .dataframe tbody tr th {\n",
       "        vertical-align: top;\n",
       "    }\n",
       "\n",
       "    .dataframe thead th {\n",
       "        text-align: right;\n",
       "    }\n",
       "</style>\n",
       "<table border=\"1\" class=\"dataframe\">\n",
       "  <thead>\n",
       "    <tr style=\"text-align: right;\">\n",
       "      <th></th>\n",
       "      <th>粉丝数</th>\n",
       "      <th>颜值</th>\n",
       "      <th>作品质量</th>\n",
       "      <th>作品数量</th>\n",
       "      <th>评分</th>\n",
       "    </tr>\n",
       "  </thead>\n",
       "  <tbody>\n",
       "    <tr>\n",
       "      <th>A</th>\n",
       "      <td>0.402685</td>\n",
       "      <td>0.416667</td>\n",
       "      <td>0.294118</td>\n",
       "      <td>0.245098</td>\n",
       "      <td>1.358567</td>\n",
       "    </tr>\n",
       "    <tr>\n",
       "      <th>B</th>\n",
       "      <td>0.228188</td>\n",
       "      <td>0.250000</td>\n",
       "      <td>0.366516</td>\n",
       "      <td>0.450980</td>\n",
       "      <td>1.295684</td>\n",
       "    </tr>\n",
       "    <tr>\n",
       "      <th>C</th>\n",
       "      <td>0.369128</td>\n",
       "      <td>0.333333</td>\n",
       "      <td>0.339367</td>\n",
       "      <td>0.303922</td>\n",
       "      <td>1.345749</td>\n",
       "    </tr>\n",
       "  </tbody>\n",
       "</table>\n",
       "</div>"
      ],
      "text/plain": [
       "        粉丝数        颜值      作品质量      作品数量        评分\n",
       "A  0.402685  0.416667  0.294118  0.245098  1.358567\n",
       "B  0.228188  0.250000  0.366516  0.450980  1.295684\n",
       "C  0.369128  0.333333  0.339367  0.303922  1.345749"
      ]
     },
     "execution_count": 3,
     "metadata": {},
     "output_type": "execute_result"
    }
   ],
   "source": [
    "data_1 = data.copy()\n",
    "data_1 = data_1.div(data.sum(axis=0), axis=1)\n",
    "data_1[\"评分\"] = data_1.sum(axis=1)\n",
    "data_1"
   ]
  },
  {
   "cell_type": "code",
   "execution_count": 4,
   "metadata": {},
   "outputs": [
    {
     "data": {
      "text/html": [
       "<div>\n",
       "<style scoped>\n",
       "    .dataframe tbody tr th:only-of-type {\n",
       "        vertical-align: middle;\n",
       "    }\n",
       "\n",
       "    .dataframe tbody tr th {\n",
       "        vertical-align: top;\n",
       "    }\n",
       "\n",
       "    .dataframe thead th {\n",
       "        text-align: right;\n",
       "    }\n",
       "</style>\n",
       "<table border=\"1\" class=\"dataframe\">\n",
       "  <thead>\n",
       "    <tr style=\"text-align: right;\">\n",
       "      <th></th>\n",
       "      <th>粉丝数</th>\n",
       "      <th>颜值</th>\n",
       "      <th>作品质量</th>\n",
       "      <th>作品数量</th>\n",
       "    </tr>\n",
       "  </thead>\n",
       "  <tbody>\n",
       "    <tr>\n",
       "      <th>粉丝数</th>\n",
       "      <td>1.000000</td>\n",
       "      <td>2.0</td>\n",
       "      <td>3.0</td>\n",
       "      <td>5.0</td>\n",
       "    </tr>\n",
       "    <tr>\n",
       "      <th>颜值</th>\n",
       "      <td>0.500000</td>\n",
       "      <td>1.0</td>\n",
       "      <td>0.5</td>\n",
       "      <td>2.0</td>\n",
       "    </tr>\n",
       "    <tr>\n",
       "      <th>作品质量</th>\n",
       "      <td>0.333333</td>\n",
       "      <td>2.0</td>\n",
       "      <td>1.0</td>\n",
       "      <td>0.5</td>\n",
       "    </tr>\n",
       "    <tr>\n",
       "      <th>作品数量</th>\n",
       "      <td>0.200000</td>\n",
       "      <td>0.5</td>\n",
       "      <td>2.0</td>\n",
       "      <td>1.0</td>\n",
       "    </tr>\n",
       "  </tbody>\n",
       "</table>\n",
       "</div>"
      ],
      "text/plain": [
       "           粉丝数   颜值  作品质量  作品数量\n",
       "粉丝数   1.000000  2.0   3.0   5.0\n",
       "颜值    0.500000  1.0   0.5   2.0\n",
       "作品质量  0.333333  2.0   1.0   0.5\n",
       "作品数量  0.200000  0.5   2.0   1.0"
      ]
     },
     "execution_count": 4,
     "metadata": {},
     "output_type": "execute_result"
    }
   ],
   "source": [
    "matrix = pd.DataFrame(\n",
    "    data=[\n",
    "        [1, 2, 3, 5],\n",
    "        [1 / 2, 1, 1 / 2, 2],\n",
    "        [1 / 3, 2, 1, 1 / 2],\n",
    "        [1 / 5, 1 / 2, 2, 1],\n",
    "    ],\n",
    "    index=[\"粉丝数\", \"颜值\", \"作品质量\", \"作品数量\"],\n",
    "    columns=[\"粉丝数\", \"颜值\", \"作品质量\", \"作品数量\"],\n",
    ")\n",
    "matrix"
   ]
  },
  {
   "cell_type": "code",
   "execution_count": 5,
   "metadata": {},
   "outputs": [
    {
     "data": {
      "text/plain": [
       "(0.17499824749750695+0j)"
      ]
     },
     "execution_count": 5,
     "metadata": {},
     "output_type": "execute_result"
    }
   ],
   "source": [
    "RI_map = {\n",
    "    1: 0,\n",
    "    2: 0,\n",
    "    3: 0.52,\n",
    "    4: 0.89,\n",
    "    1: 1.12,\n",
    "    6: 1.26,\n",
    "    7: 1.36,\n",
    "    8: 1.41,\n",
    "    9: 1.46,\n",
    "    10: 1.49,\n",
    "}\n",
    "\n",
    "\n",
    "def cal_CR(matrix):\n",
    "    eigenvalue, featurevector = np.linalg.eig(matrix.values)\n",
    "    CI = (max(eigenvalue) - matrix.shape[0]) / (matrix.shape[0] - 1)\n",
    "    RI = RI_map[matrix.shape[0]]\n",
    "    CR = CI / RI\n",
    "    return CR\n",
    "\n",
    "\n",
    "cal_CR(matrix)"
   ]
  },
  {
   "cell_type": "code",
   "execution_count": 6,
   "metadata": {},
   "outputs": [
    {
     "data": {
      "text/html": [
       "<div>\n",
       "<style scoped>\n",
       "    .dataframe tbody tr th:only-of-type {\n",
       "        vertical-align: middle;\n",
       "    }\n",
       "\n",
       "    .dataframe tbody tr th {\n",
       "        vertical-align: top;\n",
       "    }\n",
       "\n",
       "    .dataframe thead th {\n",
       "        text-align: right;\n",
       "    }\n",
       "</style>\n",
       "<table border=\"1\" class=\"dataframe\">\n",
       "  <thead>\n",
       "    <tr style=\"text-align: right;\">\n",
       "      <th></th>\n",
       "      <th>粉丝数</th>\n",
       "      <th>颜值</th>\n",
       "      <th>作品质量</th>\n",
       "      <th>作品数量</th>\n",
       "    </tr>\n",
       "  </thead>\n",
       "  <tbody>\n",
       "    <tr>\n",
       "      <th>粉丝数</th>\n",
       "      <td>1.000000</td>\n",
       "      <td>2.0</td>\n",
       "      <td>3.0</td>\n",
       "      <td>5</td>\n",
       "    </tr>\n",
       "    <tr>\n",
       "      <th>颜值</th>\n",
       "      <td>0.500000</td>\n",
       "      <td>1.0</td>\n",
       "      <td>0.5</td>\n",
       "      <td>2</td>\n",
       "    </tr>\n",
       "    <tr>\n",
       "      <th>作品质量</th>\n",
       "      <td>0.333333</td>\n",
       "      <td>2.0</td>\n",
       "      <td>1.0</td>\n",
       "      <td>2</td>\n",
       "    </tr>\n",
       "    <tr>\n",
       "      <th>作品数量</th>\n",
       "      <td>0.200000</td>\n",
       "      <td>0.5</td>\n",
       "      <td>0.5</td>\n",
       "      <td>1</td>\n",
       "    </tr>\n",
       "  </tbody>\n",
       "</table>\n",
       "</div>"
      ],
      "text/plain": [
       "           粉丝数   颜值  作品质量  作品数量\n",
       "粉丝数   1.000000  2.0   3.0     5\n",
       "颜值    0.500000  1.0   0.5     2\n",
       "作品质量  0.333333  2.0   1.0     2\n",
       "作品数量  0.200000  0.5   0.5     1"
      ]
     },
     "execution_count": 6,
     "metadata": {},
     "output_type": "execute_result"
    }
   ],
   "source": [
    "matrix = pd.DataFrame(\n",
    "    data=[\n",
    "        [1, 2, 3, 5],\n",
    "        [1 / 2, 1, 1 / 2, 2],\n",
    "        [1 / 3, 2, 1, 2],\n",
    "        [1 / 5, 1 / 2, 1/2, 1],\n",
    "    ],\n",
    "    index=[\"粉丝数\", \"颜值\", \"作品质量\", \"作品数量\"],\n",
    "    columns=[\"粉丝数\", \"颜值\", \"作品质量\", \"作品数量\"],\n",
    ")\n",
    "matrix"
   ]
  },
  {
   "cell_type": "code",
   "execution_count": 7,
   "metadata": {},
   "outputs": [
    {
     "data": {
      "text/plain": [
       "(0.04225844127046704+0j)"
      ]
     },
     "execution_count": 7,
     "metadata": {},
     "output_type": "execute_result"
    }
   ],
   "source": [
    "cal_CR(matrix)"
   ]
  },
  {
   "cell_type": "code",
   "execution_count": 8,
   "metadata": {},
   "outputs": [
    {
     "data": {
      "text/plain": [
       "粉丝数     0.488860\n",
       "颜值      0.181930\n",
       "作品质量    0.231893\n",
       "作品数量    0.097317\n",
       "dtype: float64"
      ]
     },
     "execution_count": 8,
     "metadata": {},
     "output_type": "execute_result"
    }
   ],
   "source": [
    "matrix.div(matrix.sum()).sum(axis=1) / matrix.shape[0]"
   ]
  },
  {
   "cell_type": "code",
   "execution_count": 16,
   "metadata": {},
   "outputs": [
    {
     "name": "stdout",
     "output_type": "stream",
     "text": [
      "粉丝数     2.340347\n",
      "颜值      0.840896\n",
      "作品质量    1.074570\n",
      "作品数量    0.472871\n",
      "dtype: float64\n",
      "==================================================\n",
      "粉丝数     0.494926\n",
      "颜值      0.177829\n",
      "作品质量    0.227245\n",
      "作品数量    0.100000\n",
      "dtype: float64\n"
     ]
    }
   ],
   "source": [
    "temp = np.power(matrix.prod(axis=1), 1 / matrix.shape[0])\n",
    "print(temp)\n",
    "print(\"=\"*50)\n",
    "temp /= sum(temp)\n",
    "print(temp)"
   ]
  },
  {
   "cell_type": "code",
   "execution_count": 22,
   "metadata": {},
   "outputs": [
    {
     "name": "stdout",
     "output_type": "stream",
     "text": [
      "[0.84869741+0.j 0.30763892+0.j 0.39621458+0.j 0.16758584+0.j]\n",
      "==================================================\n",
      "[0.4933895 +0.j 0.17884562+0.j 0.230339  +0.j 0.09742588+0.j]\n"
     ]
    }
   ],
   "source": [
    "eigenvalue, featurevector = np.linalg.eig(matrix.values)\n",
    "temp = featurevector[:, 0]\n",
    "print(temp)\n",
    "print(\"=\" * 50)\n",
    "temp /= sum(temp)\n",
    "print(temp)"
   ]
  }
 ],
 "metadata": {
  "kernelspec": {
   "display_name": "mytorch",
   "language": "python",
   "name": "python3"
  },
  "language_info": {
   "codemirror_mode": {
    "name": "ipython",
    "version": 3
   },
   "file_extension": ".py",
   "mimetype": "text/x-python",
   "name": "python",
   "nbconvert_exporter": "python",
   "pygments_lexer": "ipython3",
   "version": "3.9.7"
  }
 },
 "nbformat": 4,
 "nbformat_minor": 2
}
